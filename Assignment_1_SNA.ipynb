{
 "cells": [
  {
   "cell_type": "markdown",
   "id": "9d067753",
   "metadata": {},
   "source": [
    "#####  Sancheet Kumar Baidya\n",
    "- MTech in Big Data Analytics\n",
    "- Reg Num: 22MCB0029"
   ]
  },
  {
   "cell_type": "markdown",
   "id": "4e6eda50",
   "metadata": {},
   "source": [
    "###### Importing Libraries"
   ]
  },
  {
   "cell_type": "code",
   "execution_count": 26,
   "id": "3472b4d4",
   "metadata": {},
   "outputs": [],
   "source": [
    "import numpy as np\n",
    "import pandas as pd\n",
    "import networkx as nx\n",
    "import matplotlib.pyplot as plt\n",
    "\n",
    "import warnings\n",
    "warnings.filterwarnings('ignore')"
   ]
  },
  {
   "cell_type": "markdown",
   "id": "2936f1b1",
   "metadata": {},
   "source": [
    "###### Reading the csv file"
   ]
  },
  {
   "cell_type": "code",
   "execution_count": 2,
   "id": "1bd481fa",
   "metadata": {},
   "outputs": [],
   "source": [
    "df = pd.read_csv('edges.csv')"
   ]
  },
  {
   "cell_type": "markdown",
   "id": "709de3f6",
   "metadata": {},
   "source": [
    "###### Printing the dataframe"
   ]
  },
  {
   "cell_type": "code",
   "execution_count": 3,
   "id": "b2088863",
   "metadata": {},
   "outputs": [
    {
     "data": {
      "text/html": [
       "<div>\n",
       "<style scoped>\n",
       "    .dataframe tbody tr th:only-of-type {\n",
       "        vertical-align: middle;\n",
       "    }\n",
       "\n",
       "    .dataframe tbody tr th {\n",
       "        vertical-align: top;\n",
       "    }\n",
       "\n",
       "    .dataframe thead th {\n",
       "        text-align: right;\n",
       "    }\n",
       "</style>\n",
       "<table border=\"1\" class=\"dataframe\">\n",
       "  <thead>\n",
       "    <tr style=\"text-align: right;\">\n",
       "      <th></th>\n",
       "      <th>Source</th>\n",
       "      <th>Destination</th>\n",
       "      <th>Weight</th>\n",
       "    </tr>\n",
       "  </thead>\n",
       "  <tbody>\n",
       "    <tr>\n",
       "      <th>0</th>\n",
       "      <td>A</td>\n",
       "      <td>B</td>\n",
       "      <td>10</td>\n",
       "    </tr>\n",
       "    <tr>\n",
       "      <th>1</th>\n",
       "      <td>A</td>\n",
       "      <td>C</td>\n",
       "      <td>12</td>\n",
       "    </tr>\n",
       "    <tr>\n",
       "      <th>2</th>\n",
       "      <td>B</td>\n",
       "      <td>C</td>\n",
       "      <td>14</td>\n",
       "    </tr>\n",
       "    <tr>\n",
       "      <th>3</th>\n",
       "      <td>B</td>\n",
       "      <td>E</td>\n",
       "      <td>9</td>\n",
       "    </tr>\n",
       "    <tr>\n",
       "      <th>4</th>\n",
       "      <td>B</td>\n",
       "      <td>D</td>\n",
       "      <td>8</td>\n",
       "    </tr>\n",
       "    <tr>\n",
       "      <th>5</th>\n",
       "      <td>C</td>\n",
       "      <td>E</td>\n",
       "      <td>10</td>\n",
       "    </tr>\n",
       "    <tr>\n",
       "      <th>6</th>\n",
       "      <td>C</td>\n",
       "      <td>F</td>\n",
       "      <td>12</td>\n",
       "    </tr>\n",
       "    <tr>\n",
       "      <th>7</th>\n",
       "      <td>D</td>\n",
       "      <td>H</td>\n",
       "      <td>8</td>\n",
       "    </tr>\n",
       "    <tr>\n",
       "      <th>8</th>\n",
       "      <td>E</td>\n",
       "      <td>D</td>\n",
       "      <td>12</td>\n",
       "    </tr>\n",
       "    <tr>\n",
       "      <th>9</th>\n",
       "      <td>E</td>\n",
       "      <td>G</td>\n",
       "      <td>10</td>\n",
       "    </tr>\n",
       "    <tr>\n",
       "      <th>10</th>\n",
       "      <td>E</td>\n",
       "      <td>F</td>\n",
       "      <td>9</td>\n",
       "    </tr>\n",
       "    <tr>\n",
       "      <th>11</th>\n",
       "      <td>F</td>\n",
       "      <td>G</td>\n",
       "      <td>6</td>\n",
       "    </tr>\n",
       "    <tr>\n",
       "      <th>12</th>\n",
       "      <td>F</td>\n",
       "      <td>I</td>\n",
       "      <td>9</td>\n",
       "    </tr>\n",
       "    <tr>\n",
       "      <th>13</th>\n",
       "      <td>G</td>\n",
       "      <td>D</td>\n",
       "      <td>12</td>\n",
       "    </tr>\n",
       "    <tr>\n",
       "      <th>14</th>\n",
       "      <td>G</td>\n",
       "      <td>H</td>\n",
       "      <td>6</td>\n",
       "    </tr>\n",
       "    <tr>\n",
       "      <th>15</th>\n",
       "      <td>G</td>\n",
       "      <td>J</td>\n",
       "      <td>7</td>\n",
       "    </tr>\n",
       "    <tr>\n",
       "      <th>16</th>\n",
       "      <td>G</td>\n",
       "      <td>I</td>\n",
       "      <td>12</td>\n",
       "    </tr>\n",
       "    <tr>\n",
       "      <th>17</th>\n",
       "      <td>H</td>\n",
       "      <td>J</td>\n",
       "      <td>5</td>\n",
       "    </tr>\n",
       "    <tr>\n",
       "      <th>18</th>\n",
       "      <td>I</td>\n",
       "      <td>J</td>\n",
       "      <td>9</td>\n",
       "    </tr>\n",
       "  </tbody>\n",
       "</table>\n",
       "</div>"
      ],
      "text/plain": [
       "   Source Destination  Weight\n",
       "0       A           B      10\n",
       "1       A           C      12\n",
       "2       B           C      14\n",
       "3       B           E       9\n",
       "4       B           D       8\n",
       "5       C           E      10\n",
       "6       C           F      12\n",
       "7       D           H       8\n",
       "8       E           D      12\n",
       "9       E           G      10\n",
       "10      E           F       9\n",
       "11      F           G       6\n",
       "12      F           I       9\n",
       "13      G           D      12\n",
       "14      G           H       6\n",
       "15      G           J       7\n",
       "16      G           I      12\n",
       "17      H           J       5\n",
       "18      I           J       9"
      ]
     },
     "execution_count": 3,
     "metadata": {},
     "output_type": "execute_result"
    }
   ],
   "source": [
    "df"
   ]
  },
  {
   "cell_type": "markdown",
   "id": "2b7d8abf",
   "metadata": {},
   "source": [
    "###### Q1) Generate a directed and undirected graph from the given dataframe"
   ]
  },
  {
   "cell_type": "code",
   "execution_count": 4,
   "id": "4ced4366",
   "metadata": {},
   "outputs": [],
   "source": [
    "list_edges_weights = list(df.itertuples(index=False, name=None))"
   ]
  },
  {
   "cell_type": "code",
   "execution_count": 5,
   "id": "160fd636",
   "metadata": {},
   "outputs": [],
   "source": [
    "def create_graph(graph):\n",
    "    graph.add_weighted_edges_from(list_edges_weights)\n",
    "    pos = {'A':[2,4], 'B':[4,7], 'C':[4, 1], 'D':[8,7], 'E':[6,4], 'F':[8,1], 'G':[10,4], 'H':[12,7] , 'I':[12,1], 'J':[14,4]}\n",
    "    weight = nx.get_edge_attributes(G, 'weight')\n",
    "    nx.draw(graph, pos=pos, with_labels=True,node_size= 1000, node_color='y', edge_color='b', arrowsize=35, font_size=18)\n",
    "    nx.draw_networkx_edge_labels(graph, pos, edge_labels=weight , font_size =15);"
   ]
  },
  {
   "cell_type": "code",
   "execution_count": null,
   "id": "e140c901",
   "metadata": {},
   "outputs": [],
   "source": [
    "\n"
   ]
  },
  {
   "cell_type": "code",
   "execution_count": 6,
   "id": "b63afd87",
   "metadata": {},
   "outputs": [
    {
     "data": {
      "image/png": "[encoded data removed]",
      "text/plain": [
       "<Figure size 640x480 with 1 Axes>"
      ]
     },
     "metadata": {},
     "output_type": "display_data"
    }
   ],
   "source": [
    "# Create Undirected graph\n",
    "G = nx.Graph()\n",
    "create_graph(G)"
   ]
  },
  {
   "cell_type": "code",
   "execution_count": 7,
   "id": "61be3da2",
   "metadata": {},
   "outputs": [
    {
     "data": {
      "image/png": "[encoded data removed]",
      "text/plain": [
       "<Figure size 640x480 with 1 Axes>"
      ]
     },
     "metadata": {},
     "output_type": "display_data"
    }
   ],
   "source": [
    "# Create direcetd graph\n",
    "DG = nx.DiGraph()\n",
    "create_graph(DG)"
   ]
  },
  {
   "cell_type": "markdown",
   "id": "d7cc067d",
   "metadata": {},
   "source": [
    "###### Q2) Find the following for the undirected graph\n",
    "-  Number of nodes\n",
    "-  Number of edges\n",
    "-  Node with maximum degree\n",
    "-  Node with minimum degree\n"
   ]
  },
  {
   "cell_type": "code",
   "execution_count": 8,
   "id": "4ca4de10",
   "metadata": {},
   "outputs": [
    {
     "data": {
      "text/plain": [
       "10"
      ]
     },
     "execution_count": 8,
     "metadata": {},
     "output_type": "execute_result"
    }
   ],
   "source": [
    "#number of nodes\n",
    "G.number_of_nodes()"
   ]
  },
  {
   "cell_type": "code",
   "execution_count": 9,
   "id": "cecd899c",
   "metadata": {},
   "outputs": [
    {
     "data": {
      "text/plain": [
       "19"
      ]
     },
     "execution_count": 9,
     "metadata": {},
     "output_type": "execute_result"
    }
   ],
   "source": [
    "#number of edges\n",
    "G.number_of_edges()"
   ]
  },
  {
   "cell_type": "code",
   "execution_count": 10,
   "id": "7d309639",
   "metadata": {},
   "outputs": [
    {
     "data": {
      "text/plain": [
       "('G', 6)"
      ]
     },
     "execution_count": 10,
     "metadata": {},
     "output_type": "execute_result"
    }
   ],
   "source": [
    "#Node with maximum degree\n",
    "max_degree = sorted(G.degree, key=lambda x: x[1], reverse=True)\n",
    "max_degree[0]"
   ]
  },
  {
   "cell_type": "code",
   "execution_count": 11,
   "id": "87c8db2c",
   "metadata": {},
   "outputs": [
    {
     "data": {
      "text/plain": [
       "('A', 2)"
      ]
     },
     "execution_count": 11,
     "metadata": {},
     "output_type": "execute_result"
    }
   ],
   "source": [
    "#Node with minimum degree\n",
    "min_degree = sorted(G.degree, key=lambda x: x[1])\n",
    "min_degree[0]"
   ]
  },
  {
   "cell_type": "markdown",
   "id": "f903fcde",
   "metadata": {},
   "source": [
    "###### Q3) Find the following for the directed graph\n",
    "- Number of nodes\n",
    "- Number of edges\n",
    "- Nodes with maximum outdegree\n",
    "- Nodes with minimum outdegree\n",
    "- Nodes with maximum indegree\n",
    "- Nodes with minimum indegree"
   ]
  },
  {
   "cell_type": "code",
   "execution_count": 12,
   "id": "fcc72aeb",
   "metadata": {},
   "outputs": [
    {
     "data": {
      "text/plain": [
       "10"
      ]
     },
     "execution_count": 12,
     "metadata": {},
     "output_type": "execute_result"
    }
   ],
   "source": [
    "#number of nodes\n",
    "DG.number_of_nodes()"
   ]
  },
  {
   "cell_type": "code",
   "execution_count": 13,
   "id": "27c9415b",
   "metadata": {},
   "outputs": [
    {
     "data": {
      "text/plain": [
       "19"
      ]
     },
     "execution_count": 13,
     "metadata": {},
     "output_type": "execute_result"
    }
   ],
   "source": [
    "#number of edges\n",
    "DG.number_of_edges()"
   ]
  },
  {
   "cell_type": "code",
   "execution_count": 15,
   "id": "aa9abc8b",
   "metadata": {},
   "outputs": [
    {
     "data": {
      "text/plain": [
       "('D', 3)"
      ]
     },
     "execution_count": 15,
     "metadata": {},
     "output_type": "execute_result"
    }
   ],
   "source": [
    "#Node with maximum indegree\n",
    "max_indegree = sorted(DG.in_degree, key=lambda x: x[1], reverse=True)\n",
    "max_indegree[0]"
   ]
  },
  {
   "cell_type": "code",
   "execution_count": 16,
   "id": "6431f68c",
   "metadata": {},
   "outputs": [
    {
     "data": {
      "text/plain": [
       "('A', 0)"
      ]
     },
     "execution_count": 16,
     "metadata": {},
     "output_type": "execute_result"
    }
   ],
   "source": [
    "#Node with minimum indegree\n",
    "min_indegree = sorted(DG.in_degree, key=lambda x: x[1])\n",
    "min_indegree[0]"
   ]
  },
  {
   "cell_type": "code",
   "execution_count": 17,
   "id": "a86aa26f",
   "metadata": {},
   "outputs": [
    {
     "data": {
      "text/plain": [
       "('G', 4)"
      ]
     },
     "execution_count": 17,
     "metadata": {},
     "output_type": "execute_result"
    }
   ],
   "source": [
    "#Node with maximum outdegree\n",
    "max_outdegree = sorted(DG.out_degree, key=lambda x: x[1], reverse=True)\n",
    "max_outdegree[0]"
   ]
  },
  {
   "cell_type": "code",
   "execution_count": 18,
   "id": "87f780c3",
   "metadata": {},
   "outputs": [
    {
     "data": {
      "text/plain": [
       "('J', 0)"
      ]
     },
     "execution_count": 18,
     "metadata": {},
     "output_type": "execute_result"
    }
   ],
   "source": [
    "#Node with minimum outdegree\n",
    "min_outdegree = sorted(DG.out_degree, key=lambda x: x[1])\n",
    "min_outdegree[0]"
   ]
  },
  {
   "cell_type": "markdown",
   "id": "2e2a0f19",
   "metadata": {},
   "source": [
    "###### Q4) Create adjacency matrix for both undirected and directed graph\n",
    "- Row sum for all nodes\n",
    "- Row sum and column sum for all nodes"
   ]
  },
  {
   "cell_type": "code",
   "execution_count": 33,
   "id": "960892d9",
   "metadata": {},
   "outputs": [],
   "source": [
    "def adj_matrix(graph):\n",
    "    return nx.adjacency_matrix(graph).todense()"
   ]
  },
  {
   "cell_type": "code",
   "execution_count": 29,
   "id": "ef65052d",
   "metadata": {},
   "outputs": [],
   "source": [
    "def row_sum(graph, matrix):\n",
    "    x = np.array(matrix)\n",
    "    nodes = list(graph)\n",
    "    k=0\n",
    "    for i in x:\n",
    "        row_sum = 0\n",
    "        for j in i:\n",
    "            row_sum += j\n",
    "\n",
    "        print(f\"Node {nodes[k]}: {row_sum}\")\n",
    "        k += 1"
   ]
  },
  {
   "cell_type": "code",
   "execution_count": 41,
   "id": "37b81af8",
   "metadata": {},
   "outputs": [],
   "source": [
    "def col_sum(graph, matrix):\n",
    "    x = np.array(matrix)\n",
    "    nodes = list(graph)\n",
    "    k=0\n",
    "    for i in range(9):\n",
    "        col_sum = 0\n",
    "        for j in range(9):\n",
    "            col_sum += x[j][i]\n",
    "\n",
    "        print(f\"Node {nodes[k]}: {col_sum}\")\n",
    "        k += 1"
   ]
  },
  {
   "cell_type": "code",
   "execution_count": 34,
   "id": "940f7f8d",
   "metadata": {},
   "outputs": [
    {
     "data": {
      "text/plain": [
       "matrix([[ 0, 10, 12,  0,  0,  0,  0,  0,  0,  0],\n",
       "        [10,  0, 14,  9,  8,  0,  0,  0,  0,  0],\n",
       "        [12, 14,  0, 10,  0, 12,  0,  0,  0,  0],\n",
       "        [ 0,  9, 10,  0, 12,  9,  0, 10,  0,  0],\n",
       "        [ 0,  8,  0, 12,  0,  0,  8, 12,  0,  0],\n",
       "        [ 0,  0, 12,  9,  0,  0,  0,  6,  9,  0],\n",
       "        [ 0,  0,  0,  0,  8,  0,  0,  6,  0,  5],\n",
       "        [ 0,  0,  0, 10, 12,  6,  6,  0, 12,  7],\n",
       "        [ 0,  0,  0,  0,  0,  9,  0, 12,  0,  9],\n",
       "        [ 0,  0,  0,  0,  0,  0,  5,  7,  9,  0]], dtype=int32)"
      ]
     },
     "execution_count": 34,
     "metadata": {},
     "output_type": "execute_result"
    }
   ],
   "source": [
    "# Adjacency matrix of undirected graph\n",
    "adj_undir_matrix = adj_matrix(G)\n",
    "adj_undir_matrix"
   ]
  },
  {
   "cell_type": "code",
   "execution_count": 31,
   "id": "f74c61dd",
   "metadata": {},
   "outputs": [
    {
     "name": "stdout",
     "output_type": "stream",
     "text": [
      "Node A: 22\n",
      "Node B: 41\n",
      "Node C: 48\n",
      "Node E: 50\n",
      "Node D: 40\n",
      "Node F: 36\n",
      "Node H: 19\n",
      "Node G: 53\n",
      "Node I: 30\n",
      "Node J: 21\n"
     ]
    }
   ],
   "source": [
    "#row sum\n",
    "row_sum(G, adj_undir_matrix)"
   ]
  },
  {
   "cell_type": "code",
   "execution_count": 35,
   "id": "3ea4efbd",
   "metadata": {},
   "outputs": [
    {
     "data": {
      "text/plain": [
       "matrix([[ 0, 10, 12,  0,  0,  0,  0,  0,  0,  0],\n",
       "        [ 0,  0, 14,  9,  8,  0,  0,  0,  0,  0],\n",
       "        [ 0,  0,  0, 10,  0, 12,  0,  0,  0,  0],\n",
       "        [ 0,  0,  0,  0, 12,  9,  0, 10,  0,  0],\n",
       "        [ 0,  0,  0,  0,  0,  0,  8,  0,  0,  0],\n",
       "        [ 0,  0,  0,  0,  0,  0,  0,  6,  9,  0],\n",
       "        [ 0,  0,  0,  0,  0,  0,  0,  0,  0,  5],\n",
       "        [ 0,  0,  0,  0, 12,  0,  6,  0, 12,  7],\n",
       "        [ 0,  0,  0,  0,  0,  0,  0,  0,  0,  9],\n",
       "        [ 0,  0,  0,  0,  0,  0,  0,  0,  0,  0]], dtype=int32)"
      ]
     },
     "execution_count": 35,
     "metadata": {},
     "output_type": "execute_result"
    }
   ],
   "source": [
    "# Adjacency matrix for directed graph\n",
    "adj_dir_matrix = adj_matrix(DG)\n",
    "adj_dir_matrix"
   ]
  },
  {
   "cell_type": "code",
   "execution_count": 42,
   "id": "bd54beaa",
   "metadata": {},
   "outputs": [
    {
     "name": "stdout",
     "output_type": "stream",
     "text": [
      "Node A: 22\n",
      "Node B: 31\n",
      "Node C: 22\n",
      "Node E: 31\n",
      "Node D: 8\n",
      "Node F: 15\n",
      "Node H: 5\n",
      "Node G: 37\n",
      "Node I: 9\n",
      "Node J: 0\n"
     ]
    }
   ],
   "source": [
    "# Row sum of adjacency matrix of directed graph\n",
    "row_sum(DG, adj_dir_matrix)"
   ]
  },
  {
   "cell_type": "code",
   "execution_count": 43,
   "id": "2376c61d",
   "metadata": {},
   "outputs": [
    {
     "name": "stdout",
     "output_type": "stream",
     "text": [
      "Node A: 0\n",
      "Node B: 10\n",
      "Node C: 26\n",
      "Node E: 19\n",
      "Node D: 32\n",
      "Node F: 21\n",
      "Node H: 14\n",
      "Node G: 16\n",
      "Node I: 21\n"
     ]
    }
   ],
   "source": [
    "# Column sum of adjacency matrix of directed graph\n",
    "col_sum(DG, adj_dir_matrix)"
   ]
  },
  {
   "cell_type": "markdown",
   "id": "c4b41b19",
   "metadata": {},
   "source": [
    "###### Q5) Calculating the centrality measures"
   ]
  },
  {
   "cell_type": "code",
   "execution_count": 94,
   "id": "f5b5864f",
   "metadata": {},
   "outputs": [],
   "source": [
    "def centrality_measures_directed(G):\n",
    "    deg_centrality = dict(nx.degree_centrality(G)).values()\n",
    "    closeness_centrality = dict(nx.closeness_centrality(G)).values()\n",
    "    betweeness_centrality = dict(nx.betweenness_centrality(G)).values()\n",
    "    #eigen_vector_centrality = dict(nx.eigenvector_centrality(G)).values()\n",
    "    page_rank = dict(nx.pagerank(G)).values()\n",
    "    #degree = dict(G.degree).values()\n",
    "    nodes = list(G)\n",
    "    \n",
    "    data = {'Nodes':nodes,  'Degree_Centrality':deg_centrality, \n",
    "            'Closeness_Centrality':closeness_centrality,\n",
    "            'Betweeness_Centrality':betweeness_centrality,\n",
    "            'Page_Rank':page_rank}\n",
    "    centrality_df = pd.DataFrame(data)\n",
    "    return centrality_df.round(2)"
   ]
  },
  {
   "cell_type": "code",
   "execution_count": 95,
   "id": "c2d3dda9",
   "metadata": {},
   "outputs": [
    {
     "data": {
      "text/html": [
       "<div>\n",
       "<style scoped>\n",
       "    .dataframe tbody tr th:only-of-type {\n",
       "        vertical-align: middle;\n",
       "    }\n",
       "\n",
       "    .dataframe tbody tr th {\n",
       "        vertical-align: top;\n",
       "    }\n",
       "\n",
       "    .dataframe thead th {\n",
       "        text-align: right;\n",
       "    }\n",
       "</style>\n",
       "<table border=\"1\" class=\"dataframe\">\n",
       "  <thead>\n",
       "    <tr style=\"text-align: right;\">\n",
       "      <th></th>\n",
       "      <th>Nodes</th>\n",
       "      <th>Degree_Centrality</th>\n",
       "      <th>Closeness_Centrality</th>\n",
       "      <th>Betweeness_Centrality</th>\n",
       "      <th>Page_Rank</th>\n",
       "    </tr>\n",
       "  </thead>\n",
       "  <tbody>\n",
       "    <tr>\n",
       "      <th>0</th>\n",
       "      <td>A</td>\n",
       "      <td>0.22</td>\n",
       "      <td>0.00</td>\n",
       "      <td>0.00</td>\n",
       "      <td>0.04</td>\n",
       "    </tr>\n",
       "    <tr>\n",
       "      <th>1</th>\n",
       "      <td>B</td>\n",
       "      <td>0.44</td>\n",
       "      <td>0.11</td>\n",
       "      <td>0.04</td>\n",
       "      <td>0.05</td>\n",
       "    </tr>\n",
       "    <tr>\n",
       "      <th>2</th>\n",
       "      <td>C</td>\n",
       "      <td>0.44</td>\n",
       "      <td>0.22</td>\n",
       "      <td>0.06</td>\n",
       "      <td>0.07</td>\n",
       "    </tr>\n",
       "    <tr>\n",
       "      <th>3</th>\n",
       "      <td>E</td>\n",
       "      <td>0.56</td>\n",
       "      <td>0.25</td>\n",
       "      <td>0.09</td>\n",
       "      <td>0.08</td>\n",
       "    </tr>\n",
       "    <tr>\n",
       "      <th>4</th>\n",
       "      <td>D</td>\n",
       "      <td>0.44</td>\n",
       "      <td>0.44</td>\n",
       "      <td>0.05</td>\n",
       "      <td>0.10</td>\n",
       "    </tr>\n",
       "    <tr>\n",
       "      <th>5</th>\n",
       "      <td>F</td>\n",
       "      <td>0.44</td>\n",
       "      <td>0.30</td>\n",
       "      <td>0.08</td>\n",
       "      <td>0.09</td>\n",
       "    </tr>\n",
       "    <tr>\n",
       "      <th>6</th>\n",
       "      <td>H</td>\n",
       "      <td>0.33</td>\n",
       "      <td>0.39</td>\n",
       "      <td>0.02</td>\n",
       "      <td>0.13</td>\n",
       "    </tr>\n",
       "    <tr>\n",
       "      <th>7</th>\n",
       "      <td>G</td>\n",
       "      <td>0.67</td>\n",
       "      <td>0.31</td>\n",
       "      <td>0.10</td>\n",
       "      <td>0.09</td>\n",
       "    </tr>\n",
       "    <tr>\n",
       "      <th>8</th>\n",
       "      <td>I</td>\n",
       "      <td>0.33</td>\n",
       "      <td>0.33</td>\n",
       "      <td>0.01</td>\n",
       "      <td>0.11</td>\n",
       "    </tr>\n",
       "    <tr>\n",
       "      <th>9</th>\n",
       "      <td>J</td>\n",
       "      <td>0.33</td>\n",
       "      <td>0.47</td>\n",
       "      <td>0.00</td>\n",
       "      <td>0.25</td>\n",
       "    </tr>\n",
       "  </tbody>\n",
       "</table>\n",
       "</div>"
      ],
      "text/plain": [
       "  Nodes  Degree_Centrality  Closeness_Centrality  Betweeness_Centrality  \\\n",
       "0     A               0.22                  0.00                   0.00   \n",
       "1     B               0.44                  0.11                   0.04   \n",
       "2     C               0.44                  0.22                   0.06   \n",
       "3     E               0.56                  0.25                   0.09   \n",
       "4     D               0.44                  0.44                   0.05   \n",
       "5     F               0.44                  0.30                   0.08   \n",
       "6     H               0.33                  0.39                   0.02   \n",
       "7     G               0.67                  0.31                   0.10   \n",
       "8     I               0.33                  0.33                   0.01   \n",
       "9     J               0.33                  0.47                   0.00   \n",
       "\n",
       "   Page_Rank  \n",
       "0       0.04  \n",
       "1       0.05  \n",
       "2       0.07  \n",
       "3       0.08  \n",
       "4       0.10  \n",
       "5       0.09  \n",
       "6       0.13  \n",
       "7       0.09  \n",
       "8       0.11  \n",
       "9       0.25  "
      ]
     },
     "execution_count": 95,
     "metadata": {},
     "output_type": "execute_result"
    }
   ],
   "source": [
    "# Centrality measures directed graph\n",
    "centrality_directed_df = centrality_measures_directed(DG)\n",
    "centrality_directed_df"
   ]
  },
  {
   "cell_type": "code",
   "execution_count": null,
   "id": "342c873b",
   "metadata": {},
   "outputs": [],
   "source": []
  },
  {
   "cell_type": "code",
   "execution_count": 104,
   "id": "d85378b7",
   "metadata": {},
   "outputs": [],
   "source": [
    "def centrality_measures_undirected(G):\n",
    "    deg_centrality = dict(nx.degree_centrality(G)).values()\n",
    "    closeness_centrality = dict(nx.closeness_centrality(G)).values()\n",
    "    betweeness_centrality = dict(nx.betweenness_centrality(G)).values()\n",
    "    eigen_vector_centrality = dict(nx.eigenvector_centrality(G)).values()\n",
    "    page_rank = dict(nx.pagerank(G)).values()\n",
    "    nodes = list(G)\n",
    "    \n",
    "    data = {'Nodes':nodes,  'Degree_Centrality':deg_centrality, \n",
    "            'Closeness_Centrality':closeness_centrality,\n",
    "            'Betweeness_Centrality':betweeness_centrality,\n",
    "             'Eigen_Vector_Centrality': eigen_vector_centrality,\n",
    "            'Page_Rank':page_rank}\n",
    "    centrality_df = pd.DataFrame(data)\n",
    "    return centrality_df.round(2)"
   ]
  },
  {
   "cell_type": "code",
   "execution_count": 106,
   "id": "a15abba1",
   "metadata": {},
   "outputs": [
    {
     "data": {
      "text/html": [
       "<div>\n",
       "<style scoped>\n",
       "    .dataframe tbody tr th:only-of-type {\n",
       "        vertical-align: middle;\n",
       "    }\n",
       "\n",
       "    .dataframe tbody tr th {\n",
       "        vertical-align: top;\n",
       "    }\n",
       "\n",
       "    .dataframe thead th {\n",
       "        text-align: right;\n",
       "    }\n",
       "</style>\n",
       "<table border=\"1\" class=\"dataframe\">\n",
       "  <thead>\n",
       "    <tr style=\"text-align: right;\">\n",
       "      <th></th>\n",
       "      <th>Nodes</th>\n",
       "      <th>Degree_Centrality</th>\n",
       "      <th>Closeness_Centrality</th>\n",
       "      <th>Betweeness_Centrality</th>\n",
       "      <th>Eigen_Vector_Centrality</th>\n",
       "      <th>Page_Rank</th>\n",
       "    </tr>\n",
       "  </thead>\n",
       "  <tbody>\n",
       "    <tr>\n",
       "      <th>0</th>\n",
       "      <td>A</td>\n",
       "      <td>0.22</td>\n",
       "      <td>0.43</td>\n",
       "      <td>0.00</td>\n",
       "      <td>0.14</td>\n",
       "      <td>0.06</td>\n",
       "    </tr>\n",
       "    <tr>\n",
       "      <th>1</th>\n",
       "      <td>B</td>\n",
       "      <td>0.44</td>\n",
       "      <td>0.56</td>\n",
       "      <td>0.12</td>\n",
       "      <td>0.29</td>\n",
       "      <td>0.11</td>\n",
       "    </tr>\n",
       "    <tr>\n",
       "      <th>2</th>\n",
       "      <td>C</td>\n",
       "      <td>0.44</td>\n",
       "      <td>0.56</td>\n",
       "      <td>0.12</td>\n",
       "      <td>0.29</td>\n",
       "      <td>0.13</td>\n",
       "    </tr>\n",
       "    <tr>\n",
       "      <th>3</th>\n",
       "      <td>E</td>\n",
       "      <td>0.56</td>\n",
       "      <td>0.69</td>\n",
       "      <td>0.14</td>\n",
       "      <td>0.42</td>\n",
       "      <td>0.13</td>\n",
       "    </tr>\n",
       "    <tr>\n",
       "      <th>4</th>\n",
       "      <td>D</td>\n",
       "      <td>0.44</td>\n",
       "      <td>0.64</td>\n",
       "      <td>0.14</td>\n",
       "      <td>0.35</td>\n",
       "      <td>0.11</td>\n",
       "    </tr>\n",
       "    <tr>\n",
       "      <th>5</th>\n",
       "      <td>F</td>\n",
       "      <td>0.44</td>\n",
       "      <td>0.64</td>\n",
       "      <td>0.14</td>\n",
       "      <td>0.35</td>\n",
       "      <td>0.10</td>\n",
       "    </tr>\n",
       "    <tr>\n",
       "      <th>6</th>\n",
       "      <td>H</td>\n",
       "      <td>0.33</td>\n",
       "      <td>0.53</td>\n",
       "      <td>0.03</td>\n",
       "      <td>0.25</td>\n",
       "      <td>0.06</td>\n",
       "    </tr>\n",
       "    <tr>\n",
       "      <th>7</th>\n",
       "      <td>G</td>\n",
       "      <td>0.67</td>\n",
       "      <td>0.69</td>\n",
       "      <td>0.25</td>\n",
       "      <td>0.45</td>\n",
       "      <td>0.14</td>\n",
       "    </tr>\n",
       "    <tr>\n",
       "      <th>8</th>\n",
       "      <td>I</td>\n",
       "      <td>0.33</td>\n",
       "      <td>0.53</td>\n",
       "      <td>0.03</td>\n",
       "      <td>0.25</td>\n",
       "      <td>0.09</td>\n",
       "    </tr>\n",
       "    <tr>\n",
       "      <th>9</th>\n",
       "      <td>J</td>\n",
       "      <td>0.33</td>\n",
       "      <td>0.47</td>\n",
       "      <td>0.01</td>\n",
       "      <td>0.23</td>\n",
       "      <td>0.07</td>\n",
       "    </tr>\n",
       "  </tbody>\n",
       "</table>\n",
       "</div>"
      ],
      "text/plain": [
       "  Nodes  Degree_Centrality  Closeness_Centrality  Betweeness_Centrality  \\\n",
       "0     A               0.22                  0.43                   0.00   \n",
       "1     B               0.44                  0.56                   0.12   \n",
       "2     C               0.44                  0.56                   0.12   \n",
       "3     E               0.56                  0.69                   0.14   \n",
       "4     D               0.44                  0.64                   0.14   \n",
       "5     F               0.44                  0.64                   0.14   \n",
       "6     H               0.33                  0.53                   0.03   \n",
       "7     G               0.67                  0.69                   0.25   \n",
       "8     I               0.33                  0.53                   0.03   \n",
       "9     J               0.33                  0.47                   0.01   \n",
       "\n",
       "   Eigen_Vector_Centrality  Page_Rank  \n",
       "0                     0.14       0.06  \n",
       "1                     0.29       0.11  \n",
       "2                     0.29       0.13  \n",
       "3                     0.42       0.13  \n",
       "4                     0.35       0.11  \n",
       "5                     0.35       0.10  \n",
       "6                     0.25       0.06  \n",
       "7                     0.45       0.14  \n",
       "8                     0.25       0.09  \n",
       "9                     0.23       0.07  "
      ]
     },
     "execution_count": 106,
     "metadata": {},
     "output_type": "execute_result"
    }
   ],
   "source": [
    "# Centrality measures directed graph\n",
    "centrality_undirected_df = centrality_measures_undirected(G)\n",
    "centrality_undirected_df"
   ]
  },
  {
   "cell_type": "code",
   "execution_count": null,
   "id": "e04e4872",
   "metadata": {},
   "outputs": [],
   "source": []
  },
  {
   "cell_type": "markdown",
   "id": "8dfd85d7",
   "metadata": {},
   "source": [
    "###### Q6) Analysis of the centrality scores"
   ]
  },
  {
   "cell_type": "code",
   "execution_count": 134,
   "id": "e6fb1957",
   "metadata": {},
   "outputs": [],
   "source": [
    "def find_max(dataframe, parameter):\n",
    "    max_value = dataframe[parameter].max()\n",
    "    max_index = np.argmax(dataframe[parameter])\n",
    "    return max_value, max_index"
   ]
  },
  {
   "cell_type": "code",
   "execution_count": 135,
   "id": "b0c88de3",
   "metadata": {},
   "outputs": [],
   "source": [
    "def find_min(dataframe, parameter):\n",
    "    min_value = dataframe[parameter].min()\n",
    "    min_index = np.argmin(dataframe[parameter])\n",
    "    return min_value, min_index"
   ]
  },
  {
   "cell_type": "code",
   "execution_count": 158,
   "id": "1a066c04",
   "metadata": {},
   "outputs": [],
   "source": [
    "def create(dataframe, size):\n",
    "    para = list(dataframe.columns)[1:]\n",
    "    min_score = [None]*size\n",
    "    min_node = [None]*size\n",
    "    max_score = [None]*size\n",
    "    max_node = [None]*size\n",
    "    k=0\n",
    "    \n",
    "    for ele in para:\n",
    "        min_score[k], min_node[k] = find_min(dataframe, ele)\n",
    "        max_score[k], max_node[k] = find_max(dataframe, ele)\n",
    "        k += 1\n",
    "        \n",
    "    d = {'Centrality': para, 'Min_Node':min_node, 'Min_score':  min_score, 'Max_Node':max_node, 'Max_Score':max_score }\n",
    "    centrality_df = pd.DataFrame(d)\n",
    "    return centrality_df"
   ]
  },
  {
   "cell_type": "code",
   "execution_count": 159,
   "id": "0c6f949c",
   "metadata": {},
   "outputs": [
    {
     "data": {
      "text/html": [
       "<div>\n",
       "<style scoped>\n",
       "    .dataframe tbody tr th:only-of-type {\n",
       "        vertical-align: middle;\n",
       "    }\n",
       "\n",
       "    .dataframe tbody tr th {\n",
       "        vertical-align: top;\n",
       "    }\n",
       "\n",
       "    .dataframe thead th {\n",
       "        text-align: right;\n",
       "    }\n",
       "</style>\n",
       "<table border=\"1\" class=\"dataframe\">\n",
       "  <thead>\n",
       "    <tr style=\"text-align: right;\">\n",
       "      <th></th>\n",
       "      <th>Centrality</th>\n",
       "      <th>Min_Node</th>\n",
       "      <th>Min_score</th>\n",
       "      <th>Max_Node</th>\n",
       "      <th>Max_Score</th>\n",
       "    </tr>\n",
       "  </thead>\n",
       "  <tbody>\n",
       "    <tr>\n",
       "      <th>0</th>\n",
       "      <td>Degree_Centrality</td>\n",
       "      <td>0</td>\n",
       "      <td>0.22</td>\n",
       "      <td>7</td>\n",
       "      <td>0.67</td>\n",
       "    </tr>\n",
       "    <tr>\n",
       "      <th>1</th>\n",
       "      <td>Closeness_Centrality</td>\n",
       "      <td>0</td>\n",
       "      <td>0.43</td>\n",
       "      <td>3</td>\n",
       "      <td>0.69</td>\n",
       "    </tr>\n",
       "    <tr>\n",
       "      <th>2</th>\n",
       "      <td>Betweeness_Centrality</td>\n",
       "      <td>0</td>\n",
       "      <td>0.00</td>\n",
       "      <td>7</td>\n",
       "      <td>0.25</td>\n",
       "    </tr>\n",
       "    <tr>\n",
       "      <th>3</th>\n",
       "      <td>Eigen_Vector_Centrality</td>\n",
       "      <td>0</td>\n",
       "      <td>0.14</td>\n",
       "      <td>7</td>\n",
       "      <td>0.45</td>\n",
       "    </tr>\n",
       "    <tr>\n",
       "      <th>4</th>\n",
       "      <td>Page_Rank</td>\n",
       "      <td>0</td>\n",
       "      <td>0.06</td>\n",
       "      <td>7</td>\n",
       "      <td>0.14</td>\n",
       "    </tr>\n",
       "  </tbody>\n",
       "</table>\n",
       "</div>"
      ],
      "text/plain": [
       "                Centrality  Min_Node  Min_score  Max_Node  Max_Score\n",
       "0        Degree_Centrality         0       0.22         7       0.67\n",
       "1     Closeness_Centrality         0       0.43         3       0.69\n",
       "2    Betweeness_Centrality         0       0.00         7       0.25\n",
       "3  Eigen_Vector_Centrality         0       0.14         7       0.45\n",
       "4                Page_Rank         0       0.06         7       0.14"
      ]
     },
     "execution_count": 159,
     "metadata": {},
     "output_type": "execute_result"
    }
   ],
   "source": [
    "undirected_result_df = create(centrality_undirected_df,5)\n",
    "undirected_result_df"
   ]
  },
  {
   "cell_type": "code",
   "execution_count": 160,
   "id": "730642bc",
   "metadata": {},
   "outputs": [
    {
     "data": {
      "text/html": [
       "<div>\n",
       "<style scoped>\n",
       "    .dataframe tbody tr th:only-of-type {\n",
       "        vertical-align: middle;\n",
       "    }\n",
       "\n",
       "    .dataframe tbody tr th {\n",
       "        vertical-align: top;\n",
       "    }\n",
       "\n",
       "    .dataframe thead th {\n",
       "        text-align: right;\n",
       "    }\n",
       "</style>\n",
       "<table border=\"1\" class=\"dataframe\">\n",
       "  <thead>\n",
       "    <tr style=\"text-align: right;\">\n",
       "      <th></th>\n",
       "      <th>Centrality</th>\n",
       "      <th>Min_Node</th>\n",
       "      <th>Min_score</th>\n",
       "      <th>Max_Node</th>\n",
       "      <th>Max_Score</th>\n",
       "    </tr>\n",
       "  </thead>\n",
       "  <tbody>\n",
       "    <tr>\n",
       "      <th>0</th>\n",
       "      <td>Degree_Centrality</td>\n",
       "      <td>0</td>\n",
       "      <td>0.22</td>\n",
       "      <td>7</td>\n",
       "      <td>0.67</td>\n",
       "    </tr>\n",
       "    <tr>\n",
       "      <th>1</th>\n",
       "      <td>Closeness_Centrality</td>\n",
       "      <td>0</td>\n",
       "      <td>0.00</td>\n",
       "      <td>9</td>\n",
       "      <td>0.47</td>\n",
       "    </tr>\n",
       "    <tr>\n",
       "      <th>2</th>\n",
       "      <td>Betweeness_Centrality</td>\n",
       "      <td>0</td>\n",
       "      <td>0.00</td>\n",
       "      <td>7</td>\n",
       "      <td>0.10</td>\n",
       "    </tr>\n",
       "    <tr>\n",
       "      <th>3</th>\n",
       "      <td>Page_Rank</td>\n",
       "      <td>0</td>\n",
       "      <td>0.04</td>\n",
       "      <td>9</td>\n",
       "      <td>0.25</td>\n",
       "    </tr>\n",
       "  </tbody>\n",
       "</table>\n",
       "</div>"
      ],
      "text/plain": [
       "              Centrality  Min_Node  Min_score  Max_Node  Max_Score\n",
       "0      Degree_Centrality         0       0.22         7       0.67\n",
       "1   Closeness_Centrality         0       0.00         9       0.47\n",
       "2  Betweeness_Centrality         0       0.00         7       0.10\n",
       "3              Page_Rank         0       0.04         9       0.25"
      ]
     },
     "execution_count": 160,
     "metadata": {},
     "output_type": "execute_result"
    }
   ],
   "source": [
    "directed_result_df = create(centrality_directed_df,4)\n",
    "directed_result_df"
   ]
  },
  {
   "cell_type": "code",
   "execution_count": null,
   "id": "c43c2e9b",
   "metadata": {},
   "outputs": [],
   "source": []
  },
  {
   "cell_type": "code",
   "execution_count": null,
   "id": "899ec375",
   "metadata": {},
   "outputs": [],
   "source": []
  }
 ],
 "metadata": {
  "kernelspec": {
   "display_name": "Python 3 (ipykernel)",
   "language": "python",
   "name": "python3"
  },
  "language_info": {
   "codemirror_mode": {
    "name": "ipython",
    "version": 3
   },
   "file_extension": ".py",
   "mimetype": "text/x-python",
   "name": "python",
   "nbconvert_exporter": "python",
   "pygments_lexer": "ipython3",
   "version": "3.9.13"
  }
 },
 "nbformat": 4,
 "nbformat_minor": 5
}
